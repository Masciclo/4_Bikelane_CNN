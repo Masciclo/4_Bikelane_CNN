{
 "cells": [
  {
   "cell_type": "markdown",
   "metadata": {},
   "source": [
    "### **Descripcón:**\n",
    "\n",
    "Esta es la consolda de una función procesa un archivo GPX y un archivo GeoJSON, y aplica un buffer a los datos del GeoJSON.\n",
    "    \n",
    "**Parámetros:**\n",
    "\n",
    "- gpx_path (str): La ruta del archivo GPX.\n",
    "- geojson_path (str): La ruta del archivo GeoJSON.\n",
    "- buffer_size (float): El tamaño del buffer a aplicar a los datos del GeoJSON en metros.\n",
    "    \n",
    "**Retorna:**\n",
    "\n",
    "- Directorios: Por cada filtro produce una carpeta que contiene los resultados de la funcion.\n",
    "- GeoDataFrame: Por cada uno de los filtros establecidos el programa retorna un GeoDataFrame con los resultados de la unión espacial entre los puntos del GPX y los datos del GeoJSON con buffer.\n",
    "- Grafico: Por cada filtro se crea un grafico con la union espacial que se realizo\n",
    "    \n",
    "### Ejemplo de uso:\n",
    "\n"
   ]
  },
  {
   "cell_type": "markdown",
   "metadata": {},
   "source": [
    "##### 1. Importar librerias y funciones"
   ]
  },
  {
   "cell_type": "code",
   "execution_count": 43,
   "metadata": {},
   "outputs": [
    {
     "name": "stdout",
     "output_type": "stream",
     "text": [
      "Current Working Directory: D:\\Spatial Data\\Diplomado IA\\Geo sampler\\Functions\n"
     ]
    }
   ],
   "source": [
    "# Importar librerias\n",
    "import gpxpy as gpxpy\n",
    "import matplotlib.pyplot as plt\n",
    "import pandas as pd\n",
    "import geopandas as gpd\n",
    "from shapely.geometry import Point\n",
    "import os\n",
    "import sys  # Asegúrate de importar el módulo sys\n",
    "\n",
    "# Importar funciones del programa\n",
    "working_directory = r\"D:/Spatial Data/Diplomado IA/Geo sampler/Functions\"\n",
    "os.chdir(working_directory)\n",
    "print(\"Current Working Directory:\", os.getcwd())\n",
    "sys.path.append(working_directory)\n",
    "\n",
    "# Importar la función correctamente sin la extensión .py\n",
    "from geo_sampler_2_0 import process_gpx_geojson"
   ]
  },
  {
   "cell_type": "markdown",
   "metadata": {},
   "source": [
    "##### 2. Cargar archivos y establecer directorio de resultados"
   ]
  },
  {
   "cell_type": "code",
   "execution_count": 44,
   "metadata": {},
   "outputs": [],
   "source": [
    "#Data sets\n",
    "geojson_path = r\"D:/Spatial Data/Diplomado IA/Geo sampler/Data/33 pocuro.geojson\"\n",
    "gpx_path = r\"D:/Spatial Data/Diplomado IA/Geo sampler/Data/EO_1.gpx\"\n",
    "mp4_path = r\"C:/Users/User/Desktop/Geo sampler/Data/EO_1.mp4\""
   ]
  },
  {
   "cell_type": "markdown",
   "metadata": {},
   "source": [
    "##### 3. Parametros"
   ]
  },
  {
   "cell_type": "code",
   "execution_count": 45,
   "metadata": {},
   "outputs": [],
   "source": [
    "# Conditions to filter , name of the file output\n",
    "conditions = [\n",
    "    (\"data['ci_o_cr'] == 0\",\"ci_o_cr_0\"),\n",
    "    (\"data['ci_o_cr'] == 1\",\"ci_o_cr_1\"),\n",
    "    (\"(data['ci_o_cr'] == 0) & (data['senalzd'] == 1)\",\"ci_o_cr_1_senalzd_1\"),\n",
    "    (\"(data['ci_o_cr'] == 0) & (data['senalzd'] == 2)\",\"ci_o_cr_1_senalzd_2\"),\n",
    "    (\"(data['ci_o_cr'] == 0) & (data['senalzd'] == 3)\",\"ci_o_cr_1_senalzd_3\"),\n",
    "    (\"data['tipci'] == 'CA'\",\"tipci_CA\"),\n",
    "    (\"data['tipci'] == 'PAR'\",\"tipci_PAR\"),\n",
    "    (\"data['tipci'] == 'VD'\",\"tipci_VD\"),\n",
    "    (\"data['tipci'] == 'BAND'\",\"tipci_BAND\"),\n",
    "    (\"data['op_ci'] == 0\",\"op_ci_0\"),\n",
    "    (\"data['op_ci'] == 1\",\"op_ci_1\")\n",
    "]\n",
    "\n",
    "buffer = 10"
   ]
  },
  {
   "cell_type": "markdown",
   "metadata": {},
   "source": [
    "##### 4. Llamada"
   ]
  },
  {
   "cell_type": "code",
   "execution_count": 47,
   "metadata": {},
   "outputs": [
    {
     "ename": "NameError",
     "evalue": "name 'gpxpy' is not defined",
     "output_type": "error",
     "traceback": [
      "\u001b[1;31m---------------------------------------------------------------------------\u001b[0m",
      "\u001b[1;31mNameError\u001b[0m                                 Traceback (most recent call last)",
      "Cell \u001b[1;32mIn[47], line 1\u001b[0m\n\u001b[1;32m----> 1\u001b[0m \u001b[43mprocess_gpx_geojson\u001b[49m\u001b[43m(\u001b[49m\u001b[43mgpx_path\u001b[49m\u001b[43m,\u001b[49m\u001b[43m \u001b[49m\u001b[43mgeojson_path\u001b[49m\u001b[43m,\u001b[49m\u001b[43mbuffer\u001b[49m\u001b[43m,\u001b[49m\u001b[43mconditions\u001b[49m\u001b[43m)\u001b[49m\n",
      "File \u001b[1;32mD:\\Spatial Data\\Diplomado IA\\Geo sampler\\Functions\\geo_sampler_2_0.py:22\u001b[0m, in \u001b[0;36mprocess_gpx_geojson\u001b[1;34m(gpx_path, geojson_path, buffer_size, conditions)\u001b[0m\n\u001b[0;32m     18\u001b[0m \u001b[38;5;28;01mdef\u001b[39;00m \u001b[38;5;21mprocess_gpx_geojson\u001b[39m(gpx_path, geojson_path, buffer_size, conditions):\n\u001b[0;32m     19\u001b[0m \n\u001b[0;32m     20\u001b[0m     \u001b[38;5;66;03m# Leer el archivo GPX\u001b[39;00m\n\u001b[0;32m     21\u001b[0m     \u001b[38;5;28;01mwith\u001b[39;00m \u001b[38;5;28mopen\u001b[39m(gpx_path, \u001b[38;5;124m'\u001b[39m\u001b[38;5;124mr\u001b[39m\u001b[38;5;124m'\u001b[39m) \u001b[38;5;28;01mas\u001b[39;00m gpx_file:\n\u001b[1;32m---> 22\u001b[0m         gpx_data \u001b[38;5;241m=\u001b[39m \u001b[43mgpxpy\u001b[49m\u001b[38;5;241m.\u001b[39mparse(gpx_file)\n\u001b[0;32m     24\u001b[0m     gpx_points \u001b[38;5;241m=\u001b[39m []\n\u001b[0;32m     25\u001b[0m     \u001b[38;5;28;01mfor\u001b[39;00m track \u001b[38;5;129;01min\u001b[39;00m gpx_data\u001b[38;5;241m.\u001b[39mtracks:\n",
      "\u001b[1;31mNameError\u001b[0m: name 'gpxpy' is not defined"
     ]
    }
   ],
   "source": [
    "process_gpx_geojson(gpx_path, geojson_path,buffer,conditions)"
   ]
  }
 ],
 "metadata": {
  "kernelspec": {
   "display_name": "Python 3",
   "language": "python",
   "name": "python3"
  },
  "language_info": {
   "codemirror_mode": {
    "name": "ipython",
    "version": 3
   },
   "file_extension": ".py",
   "mimetype": "text/x-python",
   "name": "python",
   "nbconvert_exporter": "python",
   "pygments_lexer": "ipython3",
   "version": "3.12.4"
  }
 },
 "nbformat": 4,
 "nbformat_minor": 2
}
