{
 "cells": [
  {
   "cell_type": "markdown",
   "metadata": {},
   "source": [
    "### **Descripcón:**\n",
    "\n",
    "Esta es la consolda de una función procesa un archivo GPX y un archivo GeoJSON, y aplica un buffer a los datos del GeoJSON.\n",
    "    \n",
    "**Parámetros:**\n",
    "\n",
    "- gpx_path (str): La ruta del archivo GPX.\n",
    "- geojson_path (str): La ruta del archivo GeoJSON.\n",
    "- buffer_size (float): El tamaño del buffer a aplicar a los datos del GeoJSON en metros.\n",
    "    \n",
    "**Retorna:**\n",
    "\n",
    "- Directorios: Por cada filtro produce una carpeta que contiene los resultados de la funcion.\n",
    "- GeoDataFrame: Por cada uno de los filtros establecidos el programa retorna un GeoDataFrame con los resultados de la unión espacial entre los puntos del GPX y los datos del GeoJSON con buffer.\n",
    "- Grafico: Por cada filtro se crea un grafico con la union espacial que se realizo\n",
    "    \n",
    "### Ejemplo de uso:\n",
    "\n"
   ]
  },
  {
   "cell_type": "markdown",
   "metadata": {},
   "source": [
    "##### 1. Importar librerias y funciones"
   ]
  },
  {
   "cell_type": "code",
   "execution_count": 12,
   "metadata": {},
   "outputs": [
    {
     "name": "stdout",
     "output_type": "stream",
     "text": [
      "Current Working Directory: D:\\Bikelane_CNN\\Functions\n"
     ]
    }
   ],
   "source": [
    "# Importar librerias\n",
    "import gpxpy as gpxpy\n",
    "import matplotlib.pyplot as plt\n",
    "import pandas as pd\n",
    "import geopandas as gpd\n",
    "from shapely.geometry import Point\n",
    "import os\n",
    "import sys  # Asegúrate de importar el módulo sys\n",
    "\n",
    "# Importar funciones del programa\n",
    "working_directory = r\"D:/Bikelane_CNN/Functions\"\n",
    "os.chdir(working_directory)\n",
    "print(\"Current Working Directory:\", os.getcwd())\n",
    "sys.path.append(working_directory)\n",
    "\n",
    "# Importar la función correctamente sin la extensión .py\n",
    "from geo_sampler_2_0 import gpx_geojson_loader\n",
    "from geo_sampler_2_0 import filter_gpx_data"
   ]
  },
  {
   "cell_type": "markdown",
   "metadata": {},
   "source": [
    "##### 2. Cargar archivos y establecer directorio de resultados"
   ]
  },
  {
   "cell_type": "code",
   "execution_count": 2,
   "metadata": {},
   "outputs": [],
   "source": [
    "#Data sets\n",
    "geojson_path = r\"D:/Bikelane_CNN/Data/33 pocuro.geojson\"\n",
    "gpx_path = r\"D:/Bikelane_CNN/Data/EO_1.gpx\"\n",
    "mp4_path = r\"C:/Bikelane_CNN/Data/EO_1.mp4\""
   ]
  },
  {
   "cell_type": "markdown",
   "metadata": {},
   "source": [
    "##### 3. Parametros"
   ]
  },
  {
   "cell_type": "code",
   "execution_count": 8,
   "metadata": {},
   "outputs": [],
   "source": [
    "# Conditions to filter , name of the file output\n",
    "conditions = [\n",
    "    (\"df['ci_o_cr'] == 0\",\"ci_o_cr_0\"),\n",
    "    (\"df['ci_o_cr'] == 1\",\"ci_o_cr_1\"),\n",
    "    (\"(df['ci_o_cr'] == 0) & (df['senalzd'] == 1)\",\"ci_o_cr_1_senalzd_1\"),\n",
    "    (\"(df['ci_o_cr'] == 0) & (df['senalzd'] == 2)\",\"ci_o_cr_1_senalzd_2\"),\n",
    "    (\"(df['ci_o_cr'] == 0) & (df['senalzd'] == 3)\",\"ci_o_cr_1_senalzd_3\"),\n",
    "    (\"df['tipci'] == 'CA'\",\"tipci_CA\"),\n",
    "    (\"df['tipci'] == 'PAR'\",\"tipci_PAR\"),\n",
    "    (\"df['tipci'] == 'VD'\",\"tipci_VD\"),\n",
    "    (\"df['tipci'] == 'BAND'\",\"tipci_BAND\"),\n",
    "    (\"df['op_ci'] == 0\",\"op_ci_0\"),\n",
    "    (\"df['op_ci'] == 1\",\"op_ci_1\")\n",
    "]\n",
    "\n",
    "buffer_size = 10"
   ]
  },
  {
   "cell_type": "markdown",
   "metadata": {},
   "source": [
    "##### 4. Llamada"
   ]
  },
  {
   "cell_type": "code",
   "execution_count": 9,
   "metadata": {},
   "outputs": [
    {
     "name": "stdout",
     "output_type": "stream",
     "text": [
      "\n",
      "DataFrame with 'time' column:\n",
      "    latitude  longitude                        timestamp  \\\n",
      "0 -33.425957 -70.577241 2022-04-02 15:15:30.537000+00:00   \n",
      "1 -33.425957 -70.577241 2022-04-02 15:15:30.709000+00:00   \n",
      "2 -33.425957 -70.577242 2022-04-02 15:15:30.858000+00:00   \n",
      "3 -33.425957 -70.577242 2022-04-02 15:15:31.008000+00:00   \n",
      "4 -33.425957 -70.577242 2022-04-02 15:15:31.158000+00:00   \n",
      "\n",
      "                      geometry   time  \n",
      "0  POINT (-70.57724 -33.42596)  0.000  \n",
      "1  POINT (-70.57724 -33.42596)  0.172  \n",
      "2  POINT (-70.57724 -33.42596)  0.321  \n",
      "3  POINT (-70.57724 -33.42596)  0.471  \n",
      "4  POINT (-70.57724 -33.42596)  0.621  \n",
      "    latitude  longitude                        timestamp  \\\n",
      "0 -33.425957 -70.577241 2022-04-02 15:15:30.537000+00:00   \n",
      "1 -33.425957 -70.577241 2022-04-02 15:15:30.709000+00:00   \n",
      "2 -33.425957 -70.577242 2022-04-02 15:15:30.858000+00:00   \n",
      "3 -33.425957 -70.577242 2022-04-02 15:15:31.008000+00:00   \n",
      "4 -33.425957 -70.577242 2022-04-02 15:15:31.158000+00:00   \n",
      "\n",
      "                      geometry   time  \n",
      "0  POINT (-70.57724 -33.42596)  0.000  \n",
      "1  POINT (-70.57724 -33.42596)  0.172  \n",
      "2  POINT (-70.57724 -33.42596)  0.321  \n",
      "3  POINT (-70.57724 -33.42596)  0.471  \n",
      "4  POINT (-70.57724 -33.42596)  0.621  \n",
      "        comuna  ci_o_cr  tip_v_c  ancho_v  t_sg_vd  t_seg_c  ci_vd  ci_par  \\\n",
      "0  PROVIDENCIA      1.0      3.0    220.0      0.0      4.0    0.0     0.0   \n",
      "1  PROVIDENCIA      1.0      3.0    220.0      0.0      4.0    0.0     0.0   \n",
      "2  PROVIDENCIA      1.0      3.0    220.0      0.0      4.0    0.0     0.0   \n",
      "3  PROVIDENCIA      1.0      3.0    220.0      0.0      4.0    0.0     0.0   \n",
      "4  PROVIDENCIA      1.0      3.0    220.0      0.0      4.0    0.0     0.0   \n",
      "\n",
      "   ci_s_pr  ci_ca  ... fecha_c   id_2  proyect  tipci  op_ci  tp_p_sp  \\\n",
      "0      0.0    1.0  ...  2013.0  628.0      0.0     CA    0.0      0.0   \n",
      "1      0.0    1.0  ...  2013.0  629.0      0.0     CA    0.0      0.0   \n",
      "2      0.0    1.0  ...  2013.0  631.0      0.0     CA    0.0      0.0   \n",
      "3      0.0    1.0  ...  2013.0  633.0      0.0     CA    0.0      0.0   \n",
      "4      0.0    1.0  ...  2013.0  635.0      0.0     CA    0.0      0.0   \n",
      "\n",
      "   tp_p_sg_c  tp_p_sg_v  tp_p_ds  \\\n",
      "0        0.0        0.0      0.0   \n",
      "1        0.0        0.0      0.0   \n",
      "2        0.0        0.0      0.0   \n",
      "3        0.0        0.0      0.0   \n",
      "4        0.0        0.0      0.0   \n",
      "\n",
      "                                            geometry  \n",
      "0  MULTILINESTRING ((353364.44 6300375.678, 35327...  \n",
      "1  MULTILINESTRING ((353278.054 6300282.148, 3532...  \n",
      "2  MULTILINESTRING ((353262.196 6300257.895, 3532...  \n",
      "3  MULTILINESTRING ((353211.396 6300202.173, 3531...  \n",
      "4  MULTILINESTRING ((353134.508 6300117.506, 3530...  \n",
      "\n",
      "[5 rows x 46 columns]\n"
     ]
    }
   ],
   "source": [
    "geo_gpx_df, geojson_df = gpx_geojson_loader(gpx_path, geojson_path)\n",
    "\n",
    "# Now you can use geo_gpx_df and geojson_df as needed\n",
    "print(geo_gpx_df.head())\n",
    "print(geojson_df.head())"
   ]
  },
  {
   "cell_type": "code",
   "execution_count": 13,
   "metadata": {},
   "outputs": [
    {
     "name": "stdout",
     "output_type": "stream",
     "text": [
      "Este es la columna filtro: geojson_df['ci_o_cr'] == 0\n",
      "Largo de resultado: 24\n"
     ]
    },
    {
     "name": "stderr",
     "output_type": "stream",
     "text": [
      "D:\\Bikelane_CNN\\Functions\\geo_sampler_2_0.py:104: UserWarning: Legend does not support handles for PatchCollection instances.\n",
      "See: https://matplotlib.org/stable/tutorials/intermediate/legend_guide.html#implementing-a-custom-legend-handler\n",
      "  plt.legend()\n"
     ]
    },
    {
     "data": {
      "image/png": "[encoded data removed]",
      "text/plain": [
       "<Figure size 640x480 with 1 Axes>"
      ]
     },
     "metadata": {},
     "output_type": "display_data"
    },
    {
     "name": "stdout",
     "output_type": "stream",
     "text": [
      "Largo data filtrada: 24\n"
     ]
    },
    {
     "ename": "AttributeError",
     "evalue": "'tuple' object has no attribute 'empty'",
     "output_type": "error",
     "traceback": [
      "\u001b[1;31m---------------------------------------------------------------------------\u001b[0m",
      "\u001b[1;31mAttributeError\u001b[0m                            Traceback (most recent call last)",
      "Cell \u001b[1;32mIn[13], line 8\u001b[0m\n\u001b[0;32m      5\u001b[0m filtered_gpx_data \u001b[38;5;241m=\u001b[39m filter_gpx_data(geo_gpx_df,geojson_df,condition,buffer_size)\n\u001b[0;32m      7\u001b[0m \u001b[38;5;66;03m# Skip this iteration if filtered_gpx_data is None or empty\u001b[39;00m\n\u001b[1;32m----> 8\u001b[0m \u001b[38;5;28;01mif\u001b[39;00m filtered_gpx_data \u001b[38;5;129;01mis\u001b[39;00m \u001b[38;5;28;01mNone\u001b[39;00m \u001b[38;5;129;01mor\u001b[39;00m \u001b[43mfiltered_gpx_data\u001b[49m\u001b[38;5;241;43m.\u001b[39;49m\u001b[43mempty\u001b[49m:\n\u001b[0;32m      9\u001b[0m     \u001b[38;5;28mprint\u001b[39m(\u001b[38;5;124mf\u001b[39m\u001b[38;5;124m\"\u001b[39m\u001b[38;5;124mNo data found for condition: \u001b[39m\u001b[38;5;132;01m{\u001b[39;00mcondition\u001b[38;5;132;01m}\u001b[39;00m\u001b[38;5;124m. Skipping this iteration.\u001b[39m\u001b[38;5;124m\"\u001b[39m)\n\u001b[0;32m     10\u001b[0m     \u001b[38;5;28;01mcontinue\u001b[39;00m\n",
      "\u001b[1;31mAttributeError\u001b[0m: 'tuple' object has no attribute 'empty'"
     ]
    }
   ],
   "source": [
    "output_folder = \"filtered_data\"\n",
    "os.makedirs(output_folder, exist_ok=True)\n",
    "\n",
    "for condition, folder_name in conditions:\n",
    "    filtered_gpx_data = filter_gpx_data(geo_gpx_df,geojson_df,condition,buffer_size)\n",
    "\n",
    "    # Skip this iteration if filtered_gpx_data is None or empty\n",
    "    if filtered_gpx_data is None or filtered_gpx_data.empty:\n",
    "        print(f\"No data found for condition: {condition}. Skipping this iteration.\")\n",
    "        continue\n",
    "\n",
    "    folder_path = os.path.join(output_folder, folder_name)\n",
    "    os.makedirs(folder_path, exist_ok=True)\n",
    "    output_file = os.path.join(folder_path, f\"{folder_name}.geojson\")\n",
    "    filtered_gpx_data.to_file(output_file, driver='GeoJSON')\n",
    "    print(f\"Filtered data saved to {output_file}\")"
   ]
  }
 ],
 "metadata": {
  "kernelspec": {
   "display_name": "Bikelane_CNN",
   "language": "python",
   "name": "python3"
  },
  "language_info": {
   "codemirror_mode": {
    "name": "ipython",
    "version": 3
   },
   "file_extension": ".py",
   "mimetype": "text/x-python",
   "name": "python",
   "nbconvert_exporter": "python",
   "pygments_lexer": "ipython3",
   "version": "3.12.7"
  }
 },
 "nbformat": 4,
 "nbformat_minor": 2
}
