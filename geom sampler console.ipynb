{
 "cells": [
  {
   "cell_type": "markdown",
   "metadata": {},
   "source": [
    "### **Descripcón:**\n",
    "\n",
    "Esta es la consolda de una función procesa un archivo GPX y un archivo GeoJSON, y aplica un buffer a los datos del GeoJSON.\n",
    "    \n",
    "**Parámetros:**\n",
    "\n",
    "- gpx_path (str): La ruta del archivo GPX.\n",
    "- geojson_path (str): La ruta del archivo GeoJSON.\n",
    "- buffer_size (float): El tamaño del buffer a aplicar a los datos del GeoJSON en metros.\n",
    "    \n",
    "**Retorna:**\n",
    "\n",
    "- Directorios: Por cada filtro produce una carpeta que contiene los resultados de la funcion.\n",
    "- GeoDataFrame: Por cada uno de los filtros establecidos el programa retorna un GeoDataFrame con los resultados de la unión espacial entre los puntos del GPX y los datos del GeoJSON con buffer.\n",
    "- Grafico: Por cada filtro se crea un grafico con la union espacial que se realizo\n",
    "    \n",
    "### Ejemplo de uso:\n",
    "\n"
   ]
  },
  {
   "cell_type": "markdown",
   "metadata": {},
   "source": [
    "##### 1. Importar librerias y funciones"
   ]
  },
  {
   "cell_type": "code",
   "execution_count": 1,
   "metadata": {},
   "outputs": [
    {
     "name": "stdout",
     "output_type": "stream",
     "text": [
      "Current Working Directory: D:\\Spatial Data\\Diplomado IA\\Geo sampler\\Functions\n"
     ]
    }
   ],
   "source": [
    "# Importar librerias\n",
    "import gpxpy as gpxpy\n",
    "import matplotlib.pyplot as plt\n",
    "import pandas as pd\n",
    "import geopandas as gpd\n",
    "from shapely.geometry import Point\n",
    "import os\n",
    "import sys  # Asegúrate de importar el módulo sys\n",
    "\n",
    "# Importar funciones del programa\n",
    "working_directory = r\"D:/Spatial Data/Diplomado IA/Geo sampler/Functions\"\n",
    "os.chdir(working_directory)\n",
    "print(\"Current Working Directory:\", os.getcwd())\n",
    "sys.path.append(working_directory)\n",
    "\n",
    "# Importar la función correctamente sin la extensión .py\n",
    "from geo_sampler_2_0 import process_gpx_geojson"
   ]
  },
  {
   "cell_type": "markdown",
   "metadata": {},
   "source": [
    "##### 2. Cargar archivos y establecer directorio de resultados"
   ]
  },
  {
   "cell_type": "code",
   "execution_count": 2,
   "metadata": {},
   "outputs": [],
   "source": [
    "#Data sets\n",
    "geojson_path = r\"D:/Spatial Data/Diplomado IA/Geo sampler/Data/33 pocuro.geojson\"\n",
    "gpx_path = r\"D:/Spatial Data/Diplomado IA/Geo sampler/Data/EO_1.gpx\"\n",
    "mp4_path = r\"C:/Users/User/Desktop/Geo sampler/Data/EO_1.mp4\""
   ]
  },
  {
   "cell_type": "markdown",
   "metadata": {},
   "source": [
    "##### 3. Parametros"
   ]
  },
  {
   "cell_type": "code",
   "execution_count": 3,
   "metadata": {},
   "outputs": [],
   "source": [
    "# Conditions to filter , name of the file output\n",
    "conditions = [\n",
    "    (\"data['ci_o_cr'] == 0\",\"ci_o_cr_0\"),\n",
    "    (\"data['ci_o_cr'] == 1\",\"ci_o_cr_1\"),\n",
    "    (\"(data['ci_o_cr'] == 0) & (data['senalzd'] == 1)\",\"ci_o_cr_1_senalzd_1\"),\n",
    "    (\"(data['ci_o_cr'] == 0) & (data['senalzd'] == 2)\",\"ci_o_cr_1_senalzd_2\"),\n",
    "    (\"(data['ci_o_cr'] == 0) & (data['senalzd'] == 3)\",\"ci_o_cr_1_senalzd_3\"),\n",
    "    (\"data['tipci'] == 'CA'\",\"tipci_CA\"),\n",
    "    (\"data['tipci'] == 'PAR'\",\"tipci_PAR\"),\n",
    "    (\"data['tipci'] == 'VD'\",\"tipci_VD\"),\n",
    "    (\"data['tipci'] == 'BAND'\",\"tipci_BAND\"),\n",
    "    (\"data['op_ci'] == 0\",\"op_ci_0\"),\n",
    "    (\"data['op_ci'] == 1\",\"op_ci_1\")\n",
    "]\n",
    "\n",
    "buffer = 10"
   ]
  },
  {
   "cell_type": "markdown",
   "metadata": {},
   "source": [
    "##### 4. Llamada"
   ]
  },
  {
   "cell_type": "code",
   "execution_count": 6,
   "metadata": {},
   "outputs": [
    {
     "name": "stdout",
     "output_type": "stream",
     "text": [
      "\n",
      "DataFrame with 'time' column:\n",
      "    latitude  longitude                        timestamp  \\\n",
      "0 -33.425957 -70.577241 2022-04-02 15:15:30.537000+00:00   \n",
      "1 -33.425957 -70.577241 2022-04-02 15:15:30.709000+00:00   \n",
      "2 -33.425957 -70.577242 2022-04-02 15:15:30.858000+00:00   \n",
      "3 -33.425957 -70.577242 2022-04-02 15:15:31.008000+00:00   \n",
      "4 -33.425957 -70.577242 2022-04-02 15:15:31.158000+00:00   \n",
      "\n",
      "                      geometry   time  \n",
      "0  POINT (-70.57724 -33.42596)  0.000  \n",
      "1  POINT (-70.57724 -33.42596)  0.172  \n",
      "2  POINT (-70.57724 -33.42596)  0.321  \n",
      "3  POINT (-70.57724 -33.42596)  0.471  \n",
      "4  POINT (-70.57724 -33.42596)  0.621  \n",
      "Este es la columna filtro: geojson_data['ci_o_cr'] == 0\n",
      "Largo de resultado: 24\n"
     ]
    },
    {
     "ename": "KeyboardInterrupt",
     "evalue": "",
     "output_type": "error",
     "traceback": [
      "\u001b[1;31m---------------------------------------------------------------------------\u001b[0m",
      "\u001b[1;31mKeyboardInterrupt\u001b[0m                         Traceback (most recent call last)",
      "Cell \u001b[1;32mIn[6], line 1\u001b[0m\n\u001b[1;32m----> 1\u001b[0m \u001b[43mprocess_gpx_geojson\u001b[49m\u001b[43m(\u001b[49m\u001b[43mgpx_path\u001b[49m\u001b[43m,\u001b[49m\u001b[43m \u001b[49m\u001b[43mgeojson_path\u001b[49m\u001b[43m,\u001b[49m\u001b[43mbuffer\u001b[49m\u001b[43m,\u001b[49m\u001b[43mconditions\u001b[49m\u001b[43m)\u001b[49m\n",
      "File \u001b[1;32mD:\\Spatial Data\\Diplomado IA\\Geo sampler\\Functions\\geo_sampler_2_0.py:126\u001b[0m, in \u001b[0;36mprocess_gpx_geojson\u001b[1;34m(gpx_path, geojson_path, buffer_size, conditions)\u001b[0m\n\u001b[0;32m    123\u001b[0m os\u001b[38;5;241m.\u001b[39mmakedirs(output_folder, exist_ok\u001b[38;5;241m=\u001b[39m\u001b[38;5;28;01mTrue\u001b[39;00m)\n\u001b[0;32m    125\u001b[0m \u001b[38;5;28;01mfor\u001b[39;00m condition, folder_name \u001b[38;5;129;01min\u001b[39;00m conditions:\n\u001b[1;32m--> 126\u001b[0m     filtered_gpx_data \u001b[38;5;241m=\u001b[39m \u001b[43mfilter_gpx_data\u001b[49m\u001b[43m(\u001b[49m\u001b[43mgeojson_data\u001b[49m\u001b[43m,\u001b[49m\u001b[43m \u001b[49m\u001b[43mcondition\u001b[49m\u001b[43m)\u001b[49m\n\u001b[0;32m    128\u001b[0m     \u001b[38;5;66;03m# Skip this iteration if filtered_gpx_data is None or empty\u001b[39;00m\n\u001b[0;32m    129\u001b[0m     \u001b[38;5;28;01mif\u001b[39;00m filtered_gpx_data \u001b[38;5;129;01mis\u001b[39;00m \u001b[38;5;28;01mNone\u001b[39;00m \u001b[38;5;129;01mor\u001b[39;00m filtered_gpx_data\u001b[38;5;241m.\u001b[39mempty:\n",
      "File \u001b[1;32mD:\\Spatial Data\\Diplomado IA\\Geo sampler\\Functions\\geo_sampler_2_0.py:100\u001b[0m, in \u001b[0;36mprocess_gpx_geojson.<locals>.filter_gpx_data\u001b[1;34m(geojson_data, condition)\u001b[0m\n\u001b[0;32m     98\u001b[0m filtered_geojson_data\u001b[38;5;241m.\u001b[39mplot(ax\u001b[38;5;241m=\u001b[39max, color\u001b[38;5;241m=\u001b[39m\u001b[38;5;124m'\u001b[39m\u001b[38;5;124mred\u001b[39m\u001b[38;5;124m'\u001b[39m, edgecolor\u001b[38;5;241m=\u001b[39m\u001b[38;5;124m'\u001b[39m\u001b[38;5;124mblack\u001b[39m\u001b[38;5;124m'\u001b[39m, label\u001b[38;5;241m=\u001b[39m\u001b[38;5;124m'\u001b[39m\u001b[38;5;124mFiltered Data\u001b[39m\u001b[38;5;124m'\u001b[39m)\n\u001b[0;32m     99\u001b[0m buffered_geojson\u001b[38;5;241m.\u001b[39mplot(ax\u001b[38;5;241m=\u001b[39max, color\u001b[38;5;241m=\u001b[39m\u001b[38;5;124m'\u001b[39m\u001b[38;5;124mnone\u001b[39m\u001b[38;5;124m'\u001b[39m, edgecolor\u001b[38;5;241m=\u001b[39m\u001b[38;5;124m'\u001b[39m\u001b[38;5;124mgreen\u001b[39m\u001b[38;5;124m'\u001b[39m, label\u001b[38;5;241m=\u001b[39m\u001b[38;5;124m'\u001b[39m\u001b[38;5;124mBuffer\u001b[39m\u001b[38;5;124m'\u001b[39m)\n\u001b[1;32m--> 100\u001b[0m \u001b[43mgeo_gpx_df\u001b[49m\u001b[38;5;241;43m.\u001b[39;49m\u001b[43mplot\u001b[49m\u001b[43m(\u001b[49m\u001b[43max\u001b[49m\u001b[38;5;241;43m=\u001b[39;49m\u001b[43max\u001b[49m\u001b[43m,\u001b[49m\u001b[43m \u001b[49m\u001b[43mcolor\u001b[49m\u001b[38;5;241;43m=\u001b[39;49m\u001b[38;5;124;43m'\u001b[39;49m\u001b[38;5;124;43mblue\u001b[39;49m\u001b[38;5;124;43m'\u001b[39;49m\u001b[43m,\u001b[49m\u001b[43m \u001b[49m\u001b[43mmarker\u001b[49m\u001b[38;5;241;43m=\u001b[39;49m\u001b[38;5;124;43m'\u001b[39;49m\u001b[38;5;124;43mo\u001b[39;49m\u001b[38;5;124;43m'\u001b[39;49m\u001b[43m,\u001b[49m\u001b[43m \u001b[49m\u001b[43mlabel\u001b[49m\u001b[38;5;241;43m=\u001b[39;49m\u001b[38;5;124;43m'\u001b[39;49m\u001b[38;5;124;43mGPX Points\u001b[39;49m\u001b[38;5;124;43m'\u001b[39;49m\u001b[43m)\u001b[49m\n\u001b[0;32m    101\u001b[0m ax\u001b[38;5;241m.\u001b[39mset_title(condition)\n\u001b[0;32m    103\u001b[0m plt\u001b[38;5;241m.\u001b[39mlegend()\n",
      "File \u001b[1;32mc:\\Users\\jajaj\\AppData\\Local\\Programs\\Python\\Python312\\Lib\\site-packages\\geopandas\\plotting.py:979\u001b[0m, in \u001b[0;36mGeoplotAccessor.__call__\u001b[1;34m(self, *args, **kwargs)\u001b[0m\n\u001b[0;32m    977\u001b[0m kind \u001b[38;5;241m=\u001b[39m kwargs\u001b[38;5;241m.\u001b[39mpop(\u001b[38;5;124m\"\u001b[39m\u001b[38;5;124mkind\u001b[39m\u001b[38;5;124m\"\u001b[39m, \u001b[38;5;124m\"\u001b[39m\u001b[38;5;124mgeo\u001b[39m\u001b[38;5;124m\"\u001b[39m)\n\u001b[0;32m    978\u001b[0m \u001b[38;5;28;01mif\u001b[39;00m kind \u001b[38;5;241m==\u001b[39m \u001b[38;5;124m\"\u001b[39m\u001b[38;5;124mgeo\u001b[39m\u001b[38;5;124m\"\u001b[39m:\n\u001b[1;32m--> 979\u001b[0m     \u001b[38;5;28;01mreturn\u001b[39;00m \u001b[43mplot_dataframe\u001b[49m\u001b[43m(\u001b[49m\u001b[43mdata\u001b[49m\u001b[43m,\u001b[49m\u001b[43m \u001b[49m\u001b[38;5;241;43m*\u001b[39;49m\u001b[43margs\u001b[49m\u001b[43m,\u001b[49m\u001b[43m \u001b[49m\u001b[38;5;241;43m*\u001b[39;49m\u001b[38;5;241;43m*\u001b[39;49m\u001b[43mkwargs\u001b[49m\u001b[43m)\u001b[49m\n\u001b[0;32m    980\u001b[0m \u001b[38;5;28;01mif\u001b[39;00m kind \u001b[38;5;129;01min\u001b[39;00m \u001b[38;5;28mself\u001b[39m\u001b[38;5;241m.\u001b[39m_pandas_kinds:\n\u001b[0;32m    981\u001b[0m     \u001b[38;5;66;03m# Access pandas plots\u001b[39;00m\n\u001b[0;32m    982\u001b[0m     \u001b[38;5;28;01mreturn\u001b[39;00m PlotAccessor(data)(kind\u001b[38;5;241m=\u001b[39mkind, \u001b[38;5;241m*\u001b[39m\u001b[38;5;241m*\u001b[39mkwargs)\n",
      "File \u001b[1;32mc:\\Users\\jajaj\\AppData\\Local\\Programs\\Python\\Python312\\Lib\\site-packages\\geopandas\\plotting.py:716\u001b[0m, in \u001b[0;36mplot_dataframe\u001b[1;34m(df, column, cmap, color, ax, cax, categorical, legend, scheme, k, vmin, vmax, markersize, figsize, legend_kwds, categories, classification_kwds, missing_kwds, aspect, **style_kwds)\u001b[0m\n\u001b[0;32m    713\u001b[0m     markersize \u001b[38;5;241m=\u001b[39m df[markersize]\u001b[38;5;241m.\u001b[39mvalues\n\u001b[0;32m    715\u001b[0m \u001b[38;5;28;01mif\u001b[39;00m column \u001b[38;5;129;01mis\u001b[39;00m \u001b[38;5;28;01mNone\u001b[39;00m:\n\u001b[1;32m--> 716\u001b[0m     \u001b[38;5;28;01mreturn\u001b[39;00m \u001b[43mplot_series\u001b[49m\u001b[43m(\u001b[49m\n\u001b[0;32m    717\u001b[0m \u001b[43m        \u001b[49m\u001b[43mdf\u001b[49m\u001b[38;5;241;43m.\u001b[39;49m\u001b[43mgeometry\u001b[49m\u001b[43m,\u001b[49m\n\u001b[0;32m    718\u001b[0m \u001b[43m        \u001b[49m\u001b[43mcmap\u001b[49m\u001b[38;5;241;43m=\u001b[39;49m\u001b[43mcmap\u001b[49m\u001b[43m,\u001b[49m\n\u001b[0;32m    719\u001b[0m \u001b[43m        \u001b[49m\u001b[43mcolor\u001b[49m\u001b[38;5;241;43m=\u001b[39;49m\u001b[43mcolor\u001b[49m\u001b[43m,\u001b[49m\n\u001b[0;32m    720\u001b[0m \u001b[43m        \u001b[49m\u001b[43max\u001b[49m\u001b[38;5;241;43m=\u001b[39;49m\u001b[43max\u001b[49m\u001b[43m,\u001b[49m\n\u001b[0;32m    721\u001b[0m \u001b[43m        \u001b[49m\u001b[43mfigsize\u001b[49m\u001b[38;5;241;43m=\u001b[39;49m\u001b[43mfigsize\u001b[49m\u001b[43m,\u001b[49m\n\u001b[0;32m    722\u001b[0m \u001b[43m        \u001b[49m\u001b[43mmarkersize\u001b[49m\u001b[38;5;241;43m=\u001b[39;49m\u001b[43mmarkersize\u001b[49m\u001b[43m,\u001b[49m\n\u001b[0;32m    723\u001b[0m \u001b[43m        \u001b[49m\u001b[43maspect\u001b[49m\u001b[38;5;241;43m=\u001b[39;49m\u001b[43maspect\u001b[49m\u001b[43m,\u001b[49m\n\u001b[0;32m    724\u001b[0m \u001b[43m        \u001b[49m\u001b[38;5;241;43m*\u001b[39;49m\u001b[38;5;241;43m*\u001b[39;49m\u001b[43mstyle_kwds\u001b[49m\u001b[43m,\u001b[49m\n\u001b[0;32m    725\u001b[0m \u001b[43m    \u001b[49m\u001b[43m)\u001b[49m\n\u001b[0;32m    727\u001b[0m \u001b[38;5;66;03m# To accept pd.Series and np.arrays as column\u001b[39;00m\n\u001b[0;32m    728\u001b[0m \u001b[38;5;28;01mif\u001b[39;00m \u001b[38;5;28misinstance\u001b[39m(column, (np\u001b[38;5;241m.\u001b[39mndarray, pd\u001b[38;5;241m.\u001b[39mSeries)):\n",
      "File \u001b[1;32mc:\\Users\\jajaj\\AppData\\Local\\Programs\\Python\\Python312\\Lib\\site-packages\\geopandas\\plotting.py:490\u001b[0m, in \u001b[0;36mplot_series\u001b[1;34m(s, cmap, color, ax, figsize, aspect, **style_kwds)\u001b[0m\n\u001b[0;32m    487\u001b[0m     values_ \u001b[38;5;241m=\u001b[39m values[point_idx] \u001b[38;5;28;01mif\u001b[39;00m cmap \u001b[38;5;28;01melse\u001b[39;00m \u001b[38;5;28;01mNone\u001b[39;00m\n\u001b[0;32m    488\u001b[0m     color_ \u001b[38;5;241m=\u001b[39m expl_color[point_idx] \u001b[38;5;28;01mif\u001b[39;00m color_given \u001b[38;5;28;01melse\u001b[39;00m color\n\u001b[1;32m--> 490\u001b[0m     \u001b[43m_plot_point_collection\u001b[49m\u001b[43m(\u001b[49m\n\u001b[0;32m    491\u001b[0m \u001b[43m        \u001b[49m\u001b[43max\u001b[49m\u001b[43m,\u001b[49m\u001b[43m \u001b[49m\u001b[43mpoints\u001b[49m\u001b[43m,\u001b[49m\u001b[43m \u001b[49m\u001b[43mvalues_\u001b[49m\u001b[43m,\u001b[49m\u001b[43m \u001b[49m\u001b[43mcolor\u001b[49m\u001b[38;5;241;43m=\u001b[39;49m\u001b[43mcolor_\u001b[49m\u001b[43m,\u001b[49m\u001b[43m \u001b[49m\u001b[43mcmap\u001b[49m\u001b[38;5;241;43m=\u001b[39;49m\u001b[43mcmap\u001b[49m\u001b[43m,\u001b[49m\u001b[43m \u001b[49m\u001b[38;5;241;43m*\u001b[39;49m\u001b[38;5;241;43m*\u001b[39;49m\u001b[43mstyle_kwds\u001b[49m\n\u001b[0;32m    492\u001b[0m \u001b[43m    \u001b[49m\u001b[43m)\u001b[49m\n\u001b[0;32m    494\u001b[0m plt\u001b[38;5;241m.\u001b[39mdraw()\n\u001b[0;32m    495\u001b[0m \u001b[38;5;28;01mreturn\u001b[39;00m ax\n",
      "File \u001b[1;32mc:\\Users\\jajaj\\AppData\\Local\\Programs\\Python\\Python312\\Lib\\site-packages\\geopandas\\plotting.py:298\u001b[0m, in \u001b[0;36m_plot_point_collection\u001b[1;34m(ax, geoms, values, color, cmap, vmin, vmax, marker, markersize, **kwargs)\u001b[0m\n\u001b[0;32m    295\u001b[0m \u001b[38;5;66;03m# values are expanded below as kwargs[\"c\"]\u001b[39;00m\n\u001b[0;32m    297\u001b[0m x \u001b[38;5;241m=\u001b[39m [p\u001b[38;5;241m.\u001b[39mx \u001b[38;5;28;01mif\u001b[39;00m \u001b[38;5;129;01mnot\u001b[39;00m p\u001b[38;5;241m.\u001b[39mis_empty \u001b[38;5;28;01melse\u001b[39;00m \u001b[38;5;28;01mNone\u001b[39;00m \u001b[38;5;28;01mfor\u001b[39;00m p \u001b[38;5;129;01min\u001b[39;00m geoms]\n\u001b[1;32m--> 298\u001b[0m y \u001b[38;5;241m=\u001b[39m [\u001b[43mp\u001b[49m\u001b[38;5;241;43m.\u001b[39;49m\u001b[43my\u001b[49m \u001b[38;5;28;01mif\u001b[39;00m \u001b[38;5;129;01mnot\u001b[39;00m p\u001b[38;5;241m.\u001b[39mis_empty \u001b[38;5;28;01melse\u001b[39;00m \u001b[38;5;28;01mNone\u001b[39;00m \u001b[38;5;28;01mfor\u001b[39;00m p \u001b[38;5;129;01min\u001b[39;00m geoms]\n\u001b[0;32m    300\u001b[0m \u001b[38;5;66;03m# matplotlib 1.4 does not support c=None, and < 2.0 does not support s=None\u001b[39;00m\n\u001b[0;32m    301\u001b[0m \u001b[38;5;28;01mif\u001b[39;00m values \u001b[38;5;129;01mis\u001b[39;00m \u001b[38;5;129;01mnot\u001b[39;00m \u001b[38;5;28;01mNone\u001b[39;00m:\n",
      "File \u001b[1;32mc:\\Users\\jajaj\\AppData\\Local\\Programs\\Python\\Python312\\Lib\\site-packages\\shapely\\geometry\\point.py:93\u001b[0m, in \u001b[0;36mPoint.y\u001b[1;34m(self)\u001b[0m\n\u001b[0;32m     90\u001b[0m \u001b[38;5;129m@property\u001b[39m\n\u001b[0;32m     91\u001b[0m \u001b[38;5;28;01mdef\u001b[39;00m \u001b[38;5;21my\u001b[39m(\u001b[38;5;28mself\u001b[39m):\n\u001b[0;32m     92\u001b[0m \u001b[38;5;250m    \u001b[39m\u001b[38;5;124;03m\"\"\"Return y coordinate.\"\"\"\u001b[39;00m\n\u001b[1;32m---> 93\u001b[0m     \u001b[38;5;28;01mreturn\u001b[39;00m \u001b[43mshapely\u001b[49m\u001b[38;5;241;43m.\u001b[39;49m\u001b[43mget_y\u001b[49m\u001b[43m(\u001b[49m\u001b[38;5;28;43mself\u001b[39;49m\u001b[43m)\u001b[49m\n",
      "File \u001b[1;32mc:\\Users\\jajaj\\AppData\\Local\\Programs\\Python\\Python312\\Lib\\site-packages\\shapely\\decorators.py:77\u001b[0m, in \u001b[0;36mmultithreading_enabled.<locals>.wrapped\u001b[1;34m(*args, **kwargs)\u001b[0m\n\u001b[0;32m     75\u001b[0m     \u001b[38;5;28;01mfor\u001b[39;00m arr \u001b[38;5;129;01min\u001b[39;00m array_args:\n\u001b[0;32m     76\u001b[0m         arr\u001b[38;5;241m.\u001b[39mflags\u001b[38;5;241m.\u001b[39mwriteable \u001b[38;5;241m=\u001b[39m \u001b[38;5;28;01mFalse\u001b[39;00m\n\u001b[1;32m---> 77\u001b[0m     \u001b[38;5;28;01mreturn\u001b[39;00m \u001b[43mfunc\u001b[49m\u001b[43m(\u001b[49m\u001b[38;5;241;43m*\u001b[39;49m\u001b[43margs\u001b[49m\u001b[43m,\u001b[49m\u001b[43m \u001b[49m\u001b[38;5;241;43m*\u001b[39;49m\u001b[38;5;241;43m*\u001b[39;49m\u001b[43mkwargs\u001b[49m\u001b[43m)\u001b[49m\n\u001b[0;32m     78\u001b[0m \u001b[38;5;28;01mfinally\u001b[39;00m:\n\u001b[0;32m     79\u001b[0m     \u001b[38;5;28;01mfor\u001b[39;00m arr, old_flag \u001b[38;5;129;01min\u001b[39;00m \u001b[38;5;28mzip\u001b[39m(array_args, old_flags):\n",
      "File \u001b[1;32mc:\\Users\\jajaj\\AppData\\Local\\Programs\\Python\\Python312\\Lib\\site-packages\\shapely\\_geometry.py:290\u001b[0m, in \u001b[0;36mget_y\u001b[1;34m(point, **kwargs)\u001b[0m\n\u001b[0;32m    267\u001b[0m \u001b[38;5;129m@multithreading_enabled\u001b[39m\n\u001b[0;32m    268\u001b[0m \u001b[38;5;28;01mdef\u001b[39;00m \u001b[38;5;21mget_y\u001b[39m(point, \u001b[38;5;241m*\u001b[39m\u001b[38;5;241m*\u001b[39mkwargs):\n\u001b[0;32m    269\u001b[0m \u001b[38;5;250m    \u001b[39m\u001b[38;5;124;03m\"\"\"Returns the y-coordinate of a point\u001b[39;00m\n\u001b[0;32m    270\u001b[0m \n\u001b[0;32m    271\u001b[0m \u001b[38;5;124;03m    Parameters\u001b[39;00m\n\u001b[1;32m   (...)\u001b[0m\n\u001b[0;32m    288\u001b[0m \u001b[38;5;124;03m    nan\u001b[39;00m\n\u001b[0;32m    289\u001b[0m \u001b[38;5;124;03m    \"\"\"\u001b[39;00m\n\u001b[1;32m--> 290\u001b[0m     \u001b[38;5;28;01mreturn\u001b[39;00m \u001b[43mlib\u001b[49m\u001b[38;5;241;43m.\u001b[39;49m\u001b[43mget_y\u001b[49m\u001b[43m(\u001b[49m\u001b[43mpoint\u001b[49m\u001b[43m,\u001b[49m\u001b[43m \u001b[49m\u001b[38;5;241;43m*\u001b[39;49m\u001b[38;5;241;43m*\u001b[39;49m\u001b[43mkwargs\u001b[49m\u001b[43m)\u001b[49m\n",
      "\u001b[1;31mKeyboardInterrupt\u001b[0m: "
     ]
    },
    {
     "data": {
      "image/png": "[encoded data removed]",
      "text/plain": [
       "<Figure size 640x480 with 1 Axes>"
      ]
     },
     "metadata": {},
     "output_type": "display_data"
    }
   ],
   "source": [
    "process_gpx_geojson(gpx_path, geojson_path,buffer,conditions)"
   ]
  }
 ],
 "metadata": {
  "kernelspec": {
   "display_name": "Python 3",
   "language": "python",
   "name": "python3"
  },
  "language_info": {
   "codemirror_mode": {
    "name": "ipython",
    "version": 3
   },
   "file_extension": ".py",
   "mimetype": "text/x-python",
   "name": "python",
   "nbconvert_exporter": "python",
   "pygments_lexer": "ipython3",
   "version": "3.12.4"
  }
 },
 "nbformat": 4,
 "nbformat_minor": 2
}
